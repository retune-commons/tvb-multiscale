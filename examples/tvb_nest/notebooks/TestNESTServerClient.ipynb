{
 "cells": [
  {
   "cell_type": "code",
   "execution_count": 1,
   "id": "afb9dc79",
   "metadata": {},
   "outputs": [
    {
     "name": "stderr",
     "output_type": "stream",
     "text": [
      "2023-09-20 11:57:22,623\tINFO worker.py:1642 -- Started a local Ray instance.\n"
     ]
    }
   ],
   "source": [
    "# TODO: Find out why we can't deamonize the NEST server...\n",
    "# For the moment we need to use Ray to deamonize it, or start it on a terminal.\n",
    "# ! nest-server start -o -p 52425\n",
    "\n",
    "import os\n",
    "import ray\n",
    "\n",
    "ray.init()  # _temp_dir=\"/home/docker/tmp/ray\", object_store_memory=100000000\n",
    "\n",
    "\n",
    "@ray.remote\n",
    "def start_deamonize_nest_server():\n",
    "    os.system('! nest-server start -o -p 52425')\n",
    "\n",
    "# @ray.remote\n",
    "# def nest_server_status():\n",
    "#     os.system('! nest-server status')\n",
    "    \n",
    "# @ray.remote\n",
    "# def nest_server_log():\n",
    "#     os.system('! nest-server log')\n",
    "\n"
   ]
  },
  {
   "cell_type": "code",
   "execution_count": 2,
   "id": "6e7aec73",
   "metadata": {},
   "outputs": [
    {
     "data": {
      "text/plain": [
       "ObjectRef(c8ef45ccd0112571ffffffffffffffffffffffff0100000001000000)"
      ]
     },
     "execution_count": 2,
     "metadata": {},
     "output_type": "execute_result"
    },
    {
     "name": "stdout",
     "output_type": "stream",
     "text": [
      "\u001b[2m\u001b[36m(start_deamonize_nest_server pid=1585)\u001b[0m NEST Server is now running at http://127.0.0.1:52425.\n",
      "\u001b[2m\u001b[36m(start_deamonize_nest_server pid=1585)\u001b[0m Use CTRL + C to stop this service.\n",
      "\u001b[2m\u001b[36m(start_deamonize_nest_server pid=1585)\u001b[0m -------------------------------------------------\n",
      "\u001b[2m\u001b[36m(start_deamonize_nest_server pid=1585)\u001b[0m \n",
      "\u001b[2m\u001b[36m(start_deamonize_nest_server pid=1585)\u001b[0m               -- N E S T --\n",
      "\u001b[2m\u001b[36m(start_deamonize_nest_server pid=1585)\u001b[0m   Copyright (C) 2004 The NEST Initiative\n",
      "\u001b[2m\u001b[36m(start_deamonize_nest_server pid=1585)\u001b[0m \n",
      "\u001b[2m\u001b[36m(start_deamonize_nest_server pid=1585)\u001b[0m  Version: 3.5\n",
      "\u001b[2m\u001b[36m(start_deamonize_nest_server pid=1585)\u001b[0m  Built: Sep 19 2023 15:56:48\n",
      "\u001b[2m\u001b[36m(start_deamonize_nest_server pid=1585)\u001b[0m \n",
      "\u001b[2m\u001b[36m(start_deamonize_nest_server pid=1585)\u001b[0m  This program is provided AS IS and comes with\n",
      "\u001b[2m\u001b[36m(start_deamonize_nest_server pid=1585)\u001b[0m  NO WARRANTY. See the file LICENSE for details.\n",
      "\u001b[2m\u001b[36m(start_deamonize_nest_server pid=1585)\u001b[0m \n",
      "\u001b[2m\u001b[36m(start_deamonize_nest_server pid=1585)\u001b[0m  Problems or suggestions?\n",
      "\u001b[2m\u001b[36m(start_deamonize_nest_server pid=1585)\u001b[0m    Visit https://www.nest-simulator.org\n",
      "\u001b[2m\u001b[36m(start_deamonize_nest_server pid=1585)\u001b[0m \n",
      "\u001b[2m\u001b[36m(start_deamonize_nest_server pid=1585)\u001b[0m  Type 'nest.help()' to find out more about NEST.\n",
      "\u001b[2m\u001b[36m(start_deamonize_nest_server pid=1585)\u001b[0m \n"
     ]
    }
   ],
   "source": [
    "start_deamonize_nest_server.remote()\n",
    "# nest_server_status.remote()\n",
    "# nest_server_log.remote()"
   ]
  },
  {
   "cell_type": "code",
   "execution_count": 3,
   "id": "08510e39",
   "metadata": {},
   "outputs": [
    {
     "name": "stdout",
     "output_type": "stream",
     "text": [
      "Running client examples using NEST via NEST Server\n",
      "\n",
      "\n",
      "Execute script code with NEST Server API\n",
      "--------------------\n",
      "\u001b[2m\u001b[36m(start_deamonize_nest_server pid=1585)\u001b[0m \n",
      "\u001b[2m\u001b[36m(start_deamonize_nest_server pid=1585)\u001b[0m ========================================\n",
      "\u001b[2m\u001b[36m(start_deamonize_nest_server pid=1585)\u001b[0m \n",
      "\u001b[2m\u001b[36m(start_deamonize_nest_server pid=1585)\u001b[0m ==> MASTER 0/1695211057.3136008 (route_api_call): call=ResetKernel, args=[], kwargs={}\n",
      "\u001b[2m\u001b[36m(start_deamonize_nest_server pid=1585)\u001b[0m ==> MASTER 0/1695211057.3136392 (ResetKernel): local call, args=[], kwargs={}\n",
      "\u001b[2m\u001b[36m(start_deamonize_nest_server pid=1585)\u001b[0m \n",
      "\u001b[2m\u001b[36m(start_deamonize_nest_server pid=1585)\u001b[0m ========================================\n",
      "\u001b[2m\u001b[36m(start_deamonize_nest_server pid=1585)\u001b[0m \n",
      "\u001b[2m\u001b[36m(start_deamonize_nest_server pid=1585)\u001b[0m ==> MASTER 0/1695211057.3157861 (route_api_call): call=GetKernelStatus, args=['biological_time'], kwargs={}\n",
      "\u001b[2m\u001b[36m(start_deamonize_nest_server pid=1585)\u001b[0m ==> MASTER 0/1695211057.3158243 (GetKernelStatus): local call, args=['biological_time'], kwargs={}\n",
      "\u001b[2m\u001b[36m(start_deamonize_nest_server pid=1585)\u001b[0m \n",
      "\u001b[2m\u001b[36m(start_deamonize_nest_server pid=1585)\u001b[0m ========================================\n",
      "\u001b[2m\u001b[36m(start_deamonize_nest_server pid=1585)\u001b[0m \n",
      "\u001b[2m\u001b[36m(start_deamonize_nest_server pid=1585)\u001b[0m ==> MASTER 0/1695211057.3172147 (route_api_call): call=Create, args=['poisson_generator'], kwargs={'params': {'rate': 6500.0}}\n",
      "\u001b[2m\u001b[36m(start_deamonize_nest_server pid=1585)\u001b[0m ==> MASTER 0/1695211057.3172474 (Create): local call, args=['poisson_generator'], kwargs={'params': {'rate': 6500.0}}\n",
      "\u001b[2m\u001b[36m(start_deamonize_nest_server pid=1585)\u001b[0m \n",
      "\u001b[2m\u001b[36m(start_deamonize_nest_server pid=1585)\u001b[0m ========================================\n",
      "\u001b[2m\u001b[36m(start_deamonize_nest_server pid=1585)\u001b[0m \n",
      "\u001b[2m\u001b[36m(start_deamonize_nest_server pid=1585)\u001b[0m ==> MASTER 0/1695211057.3187287 (route_api_call): call=Create, args=['iaf_psc_alpha', 100], kwargs={}\n",
      "\u001b[2m\u001b[36m(start_deamonize_nest_server pid=1585)\u001b[0m ==> MASTER 0/1695211057.3187647 (Create): local call, args=['iaf_psc_alpha', 100], kwargs={}\n",
      "\u001b[2m\u001b[36m(start_deamonize_nest_server pid=1585)\u001b[0m \n",
      "\u001b[2m\u001b[36m(start_deamonize_nest_server pid=1585)\u001b[0m ========================================\n",
      "\u001b[2m\u001b[36m(start_deamonize_nest_server pid=1585)\u001b[0m \n",
      "\u001b[2m\u001b[36m(start_deamonize_nest_server pid=1585)\u001b[0m ==> MASTER 0/1695211057.3203654 (route_api_call): call=Create, args=['spike_recorder'], kwargs={}\n",
      "\u001b[2m\u001b[36m(start_deamonize_nest_server pid=1585)\u001b[0m ==> MASTER 0/1695211057.3204021 (Create): local call, args=['spike_recorder'], kwargs={}\n",
      "\u001b[2m\u001b[36m(start_deamonize_nest_server pid=1585)\u001b[0m \n",
      "\u001b[2m\u001b[36m(start_deamonize_nest_server pid=1585)\u001b[0m ========================================\n",
      "\u001b[2m\u001b[36m(start_deamonize_nest_server pid=1585)\u001b[0m \n",
      "\u001b[2m\u001b[36m(start_deamonize_nest_server pid=1585)\u001b[0m ==> MASTER 0/1695211057.3216183 (route_api_call): call=Connect, args=[[1], [2, 3, 4, 5, 6, 7, 8, 9, 10, 11, 12, 13, 14, 15, 16, 17, 18, 19, 20, 21, 22, 23, 24, 25, 26, 27, 28, 29, 30, 31, 32, 33, 34, 35, 36, 37, 38, 39, 40, 41, 42, 43, 44, 45, 46, 47, 48, 49, 50, 51, 52, 53, 54, 55, 56, 57, 58, 59, 60, 61, 62, 63, 64, 65, 66, 67, 68, 69, 70, 71, 72, 73, 74, 75, 76, 77, 78, 79, 80, 81, 82, 83, 84, 85, 86, 87, 88, 89, 90, 91, 92, 93, 94, 95, 96, 97, 98, 99, 100, 101]], kwargs={'syn_spec': {'weight': 10.0}}\n",
      "\u001b[2m\u001b[36m(start_deamonize_nest_server pid=1585)\u001b[0m ==> MASTER 0/1695211057.3217669 (Connect): local call, args=[NodeCollection(metadata=None, model=poisson_generator, size=1, first=1), NodeCollection(metadata=None, model=iaf_psc_alpha, size=100, first=2, last=101)], kwargs={'syn_spec': {'weight': 10.0}}\n",
      "\u001b[2m\u001b[36m(start_deamonize_nest_server pid=1585)\u001b[0m \n",
      "\u001b[2m\u001b[36m(start_deamonize_nest_server pid=1585)\u001b[0m ========================================\n",
      "\u001b[2m\u001b[36m(start_deamonize_nest_server pid=1585)\u001b[0m \n",
      "\u001b[2m\u001b[36m(start_deamonize_nest_server pid=1585)\u001b[0m ==> MASTER 0/1695211057.3233135 (route_api_call): call=Connect, args=[[2, 12, 22, 32, 42, 52, 62, 72, 82, 92], [102]], kwargs={}\n",
      "\u001b[2m\u001b[36m(start_deamonize_nest_server pid=1585)\u001b[0m ==> MASTER 0/1695211057.3234739 (Connect): local call, args=[NodeCollection(metadata=None,\n",
      "\u001b[2m\u001b[36m(start_deamonize_nest_server pid=1585)\u001b[0m                model=iaf_psc_alpha, size=1, first=2;\n",
      "\u001b[2m\u001b[36m(start_deamonize_nest_server pid=1585)\u001b[0m                model=iaf_psc_alpha, size=1, first=12;\n",
      "\u001b[2m\u001b[36m(start_deamonize_nest_server pid=1585)\u001b[0m                model=iaf_psc_alpha, size=1, first=22;\n",
      "\u001b[2m\u001b[36m(start_deamonize_nest_server pid=1585)\u001b[0m                model=iaf_psc_alpha, size=1, first=32;\n",
      "\u001b[2m\u001b[36m(start_deamonize_nest_server pid=1585)\u001b[0m                model=iaf_psc_alpha, size=1, first=42;\n",
      "\u001b[2m\u001b[36m(start_deamonize_nest_server pid=1585)\u001b[0m                model=iaf_psc_alpha, size=1, first=52;\n",
      "\u001b[2m\u001b[36m(start_deamonize_nest_server pid=1585)\u001b[0m                model=iaf_psc_alpha, size=1, first=62;\n",
      "\u001b[2m\u001b[36m(start_deamonize_nest_server pid=1585)\u001b[0m                model=iaf_psc_alpha, size=1, first=72;\n",
      "\u001b[2m\u001b[36m(start_deamonize_nest_server pid=1585)\u001b[0m                model=iaf_psc_alpha, size=1, first=82;\n",
      "\u001b[2m\u001b[36m(start_deamonize_nest_server pid=1585)\u001b[0m                model=iaf_psc_alpha, size=1, first=92), NodeCollection(metadata=None, model=spike_recorder, size=1, first=102)], kwargs={}\n",
      "\u001b[2m\u001b[36m(start_deamonize_nest_server pid=1585)\u001b[0m \n",
      "\u001b[2m\u001b[36m(start_deamonize_nest_server pid=1585)\u001b[0m ========================================\n",
      "\u001b[2m\u001b[36m(start_deamonize_nest_server pid=1585)\u001b[0m \n",
      "\u001b[2m\u001b[36m(start_deamonize_nest_server pid=1585)\u001b[0m ==> MASTER 0/1695211057.3247366 (route_api_call): call=Simulate, args=[1000.0], kwargs={}\n",
      "\u001b[2m\u001b[36m(start_deamonize_nest_server pid=1585)\u001b[0m ==> MASTER 0/1695211057.3247631 (Simulate): local call, args=[1000.0], kwargs={}\n",
      "\u001b[2m\u001b[36m(start_deamonize_nest_server pid=1585)\u001b[0m \n",
      "\u001b[2m\u001b[36m(start_deamonize_nest_server pid=1585)\u001b[0m Sep 20 11:57:37 NodeManager::prepare_nodes [Info]: \n",
      "\u001b[2m\u001b[36m(start_deamonize_nest_server pid=1585)\u001b[0m     Preparing 102 nodes for simulation.\n",
      "\u001b[2m\u001b[36m(start_deamonize_nest_server pid=1585)\u001b[0m \n",
      "\u001b[2m\u001b[36m(start_deamonize_nest_server pid=1585)\u001b[0m Sep 20 11:57:37 SimulationManager::start_updating_ [Info]: \n",
      "\u001b[2m\u001b[36m(start_deamonize_nest_server pid=1585)\u001b[0m     Number of local nodes: 102\n",
      "\u001b[2m\u001b[36m(start_deamonize_nest_server pid=1585)\u001b[0m     Simulation time (ms): 1000\n",
      "\u001b[2m\u001b[36m(start_deamonize_nest_server pid=1585)\u001b[0m     Number of OpenMP threads: 1\n",
      "\u001b[2m\u001b[36m(start_deamonize_nest_server pid=1585)\u001b[0m     Number of MPI processes: 1\n",
      "\u001b[2m\u001b[36m(start_deamonize_nest_server pid=1585)\u001b[0m \n",
      "\u001b[2m\u001b[36m(start_deamonize_nest_server pid=1585)\u001b[0m Sep 20 11:57:37 SimulationManager::run [Info]: \n",
      "\u001b[2m\u001b[36m(start_deamonize_nest_server pid=1585)\u001b[0m     Simulation finished.\n",
      "Number of events: 126\n",
      "\n",
      "\n",
      "Execute script code from file\n",
      "--------------------\n",
      "\u001b[2m\u001b[36m(start_deamonize_nest_server pid=1585)\u001b[0m \n",
      "\u001b[2m\u001b[36m(start_deamonize_nest_server pid=1585)\u001b[0m ========================================\n",
      "\u001b[2m\u001b[36m(start_deamonize_nest_server pid=1585)\u001b[0m \n",
      "\u001b[2m\u001b[36m(start_deamonize_nest_server pid=1585)\u001b[0m ==> MASTER 0/1695211057.3666427 (route_api_call): call=GetStatus, args=[[102], 'n_events'], kwargs={}\n",
      "\u001b[2m\u001b[36m(start_deamonize_nest_server pid=1585)\u001b[0m ==> MASTER 0/1695211057.3667910 (GetStatus): local call, args=[NodeCollection(metadata=None, model=spike_recorder, size=1, first=102), 'n_events'], kwargs={}\n",
      "Execute script code of /home/docker/packages/nest-client/examples/NESTClient_script.py\n",
      "Return variables: n_events\n",
      "--------------------\n",
      "# -*- coding: utf-8 -*-\n",
      "#\n",
      "# NESTClient_script.py\n",
      "#\n",
      "# This file is part of NEST.\n",
      "#\n",
      "# Copyright (C) 2004 The NEST Initiative\n",
      "#\n",
      "# NEST is free software: you can redistribute it and/or modify\n",
      "# it under the terms of the GNU General Public License as published by\n",
      "# the Free Software Foundation, either version 2 of the License, or\n",
      "# (at your option) any later version.\n",
      "#\n",
      "# NEST is distributed in the hope that it will be useful,\n",
      "# but WITHOUT ANY WARRANTY; without even the implied warranty of\n",
      "# MERCHANTABILITY or FITNESS FOR A PARTICULAR PURPOSE.  See the\n",
      "# GNU General Public License for more details.\n",
      "#\n",
      "# You should have received a copy of the GNU General Public License\n",
      "# along with NEST.  If not, see <http://www.gnu.org/licenses/>.\n",
      "\n",
      "import nest\n",
      "\n",
      "\n",
      "# Reset kernel\n",
      "nest.ResetKernel()\n",
      "\n",
      "# Create nodes\n",
      "pg = nest.Create(\"poisson_generator\", params={\"rate\": 6500.})\n",
      "neurons = nest.Create(\"iaf_psc_alpha\", 100)\n",
      "sr = nest.Create(\"spike_recorder\")\n",
      "\n",
      "# Connect nodes\n",
      "nest.Connect(pg, neurons, syn_spec={\"weight\": 10.})\n",
      "nest.Connect(neurons[::10], sr)\n",
      "\n",
      "# Simulate\n",
      "nest.Simulate(1000.)\n",
      "\n",
      "# Get events\n",
      "n_events = sr.get(\"n_events\")\n",
      "\n",
      "--------------------\n",
      "Number of events: 126\n"
     ]
    },
    {
     "name": "stdout",
     "output_type": "stream",
     "text": [
      "\u001b[2m\u001b[36m(start_deamonize_nest_server pid=1585)\u001b[0m \n",
      "\u001b[2m\u001b[36m(start_deamonize_nest_server pid=1585)\u001b[0m Sep 20 11:57:37 NodeManager::prepare_nodes [Info]: \n",
      "\u001b[2m\u001b[36m(start_deamonize_nest_server pid=1585)\u001b[0m     Preparing 102 nodes for simulation.\n",
      "\u001b[2m\u001b[36m(start_deamonize_nest_server pid=1585)\u001b[0m \n",
      "\u001b[2m\u001b[36m(start_deamonize_nest_server pid=1585)\u001b[0m Sep 20 11:57:37 SimulationManager::start_updating_ [Info]: \n",
      "\u001b[2m\u001b[36m(start_deamonize_nest_server pid=1585)\u001b[0m     Number of local nodes: 102\n",
      "\u001b[2m\u001b[36m(start_deamonize_nest_server pid=1585)\u001b[0m     Simulation time (ms): 1000\n",
      "\u001b[2m\u001b[36m(start_deamonize_nest_server pid=1585)\u001b[0m     Number of OpenMP threads: 1\n",
      "\u001b[2m\u001b[36m(start_deamonize_nest_server pid=1585)\u001b[0m     Number of MPI processes: 1\n",
      "\u001b[2m\u001b[36m(start_deamonize_nest_server pid=1585)\u001b[0m \n",
      "\u001b[2m\u001b[36m(start_deamonize_nest_server pid=1585)\u001b[0m Sep 20 11:57:37 SimulationManager::run [Info]: \n",
      "\u001b[2m\u001b[36m(start_deamonize_nest_server pid=1585)\u001b[0m     Simulation finished.\n"
     ]
    }
   ],
   "source": [
    "from nest_client import NESTClient\n",
    "\n",
    "print('Running client examples using NEST via NEST Server')\n",
    "\n",
    "# Load NEST Server client\n",
    "nestsc = NESTClient(host=\"127.0.0.1\", port=52425)\n",
    "\n",
    "#\n",
    "# Use NEST Server API\n",
    "#\n",
    "print('\\n')\n",
    "print('Execute script code with NEST Server API')\n",
    "print('-' * 20)\n",
    "\n",
    "# Reset kernel\n",
    "nestsc.ResetKernel()\n",
    "nestsc.GetKernelStatus(\"biological_time\")\n",
    "\n",
    "# Create nodes\n",
    "pg = nestsc.Create(\"poisson_generator\", params={\"rate\": 6500.})\n",
    "neurons = nestsc.Create(\"iaf_psc_alpha\", 100)\n",
    "sr = nestsc.Create(\"spike_recorder\")\n",
    "\n",
    "# Connect nodes\n",
    "nestsc.Connect(pg, neurons, syn_spec={'weight': 10.})\n",
    "nestsc.Connect(neurons[::10], sr)\n",
    "\n",
    "# Simulate\n",
    "nestsc.Simulate(1000.0)\n",
    "\n",
    "# Get events\n",
    "n_events = nestsc.GetStatus(sr, 'n_events')[0]\n",
    "print('Number of events:', n_events)\n",
    "\n",
    "\n",
    "#\n",
    "# Use NEST Server exec\n",
    "#\n",
    "print('\\n')\n",
    "print('Execute script code from file')\n",
    "print('-' * 20)\n",
    "\n",
    "n_events = nestsc.from_file('/home/docker/packages/nest-client/examples/NESTClient_script.py', 'n_events')['data']\n",
    "print('Number of events:', n_events)"
   ]
  },
  {
   "cell_type": "code",
   "execution_count": 4,
   "id": "0b79b782",
   "metadata": {},
   "outputs": [
    {
     "data": {
      "text/plain": [
       "1000.0"
      ]
     },
     "execution_count": 4,
     "metadata": {},
     "output_type": "execute_result"
    },
    {
     "name": "stdout",
     "output_type": "stream",
     "text": [
      "\u001b[2m\u001b[36m(start_deamonize_nest_server pid=1585)\u001b[0m \n",
      "\u001b[2m\u001b[36m(start_deamonize_nest_server pid=1585)\u001b[0m ========================================\n",
      "\u001b[2m\u001b[36m(start_deamonize_nest_server pid=1585)\u001b[0m \n",
      "\u001b[2m\u001b[36m(start_deamonize_nest_server pid=1585)\u001b[0m ==> MASTER 0/1695211064.0701878 (route_api_call): call=GetKernelStatus, args=['biological_time'], kwargs={}\n",
      "\u001b[2m\u001b[36m(start_deamonize_nest_server pid=1585)\u001b[0m ==> MASTER 0/1695211064.0702314 (GetKernelStatus): local call, args=['biological_time'], kwargs={}\n"
     ]
    }
   ],
   "source": [
    "from tvb_multiscale.tvb_nest.nest_models.server_client.nest_server_client import NESTServerClient \n",
    "\n",
    "# Load NEST Server client\n",
    "nest = NESTServerClient(host='localhost', port=52425)\n",
    "\n",
    "nest.GetKernelStatus(\"biological_time\")"
   ]
  },
  {
   "cell_type": "code",
   "execution_count": 5,
   "id": "d5e0e34c",
   "metadata": {},
   "outputs": [
    {
     "name": "stdout",
     "output_type": "stream",
     "text": [
      "/usr/bin/sh: 1: curl: not found\r\n"
     ]
    }
   ],
   "source": [
    "! curl localhost:52425"
   ]
  },
  {
   "cell_type": "code",
   "execution_count": 6,
   "id": "fbc4a719",
   "metadata": {},
   "outputs": [
    {
     "data": {
      "text/plain": [
       "1000.0"
      ]
     },
     "execution_count": 6,
     "metadata": {},
     "output_type": "execute_result"
    },
    {
     "name": "stdout",
     "output_type": "stream",
     "text": [
      "\u001b[2m\u001b[36m(start_deamonize_nest_server pid=1585)\u001b[0m \n",
      "\u001b[2m\u001b[36m(start_deamonize_nest_server pid=1585)\u001b[0m ========================================\n",
      "\u001b[2m\u001b[36m(start_deamonize_nest_server pid=1585)\u001b[0m \n",
      "\u001b[2m\u001b[36m(start_deamonize_nest_server pid=1585)\u001b[0m ==> MASTER 0/1695211067.1835012 (route_api_call): call=GetKernelStatus, args=['biological_time'], kwargs={}\n",
      "\u001b[2m\u001b[36m(start_deamonize_nest_server pid=1585)\u001b[0m ==> MASTER 0/1695211067.1837599 (GetKernelStatus): local call, args=['biological_time'], kwargs={}\n"
     ]
    }
   ],
   "source": [
    "import requests\n",
    "\n",
    "requests.get('http://localhost:52425').json()\n",
    "requests.get('http://127.0.0.1:52425/api/GetKernelStatus', json=[\"biological_time\"]).json()"
   ]
  },
  {
   "cell_type": "code",
   "execution_count": 7,
   "id": "402b6b43",
   "metadata": {},
   "outputs": [
    {
     "name": "stdout",
     "output_type": "stream",
     "text": [
      "NEST Server running at http://127.0.0.1:52425 has stopped.\r\n"
     ]
    }
   ],
   "source": [
    "# ! /home/docker/env/neurosci/nest_build/bin/nest-server stop\n",
    "! nest-server stop"
   ]
  },
  {
   "cell_type": "code",
   "execution_count": 8,
   "id": "2037b6d8",
   "metadata": {},
   "outputs": [],
   "source": [
    "ray.shutdown()"
   ]
  },
  {
   "cell_type": "code",
   "execution_count": null,
   "id": "a1e99661",
   "metadata": {},
   "outputs": [],
   "source": []
  }
 ],
 "metadata": {
  "kernelspec": {
   "display_name": "Python 3 (ipykernel)",
   "language": "python",
   "name": "python3"
  },
  "language_info": {
   "codemirror_mode": {
    "name": "ipython",
    "version": 3
   },
   "file_extension": ".py",
   "mimetype": "text/x-python",
   "name": "python",
   "nbconvert_exporter": "python",
   "pygments_lexer": "ipython3",
   "version": "3.10.12"
  }
 },
 "nbformat": 4,
 "nbformat_minor": 5
}
