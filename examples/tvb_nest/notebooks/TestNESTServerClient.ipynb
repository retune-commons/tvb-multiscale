{
 "cells": [
  {
   "cell_type": "code",
   "execution_count": 44,
   "id": "afb9dc79",
   "metadata": {},
   "outputs": [
    {
     "name": "stdout",
     "output_type": "stream",
     "text": [
      "NEST Server is already running at http://0.0.0.0:52425.\r\n"
     ]
    }
   ],
   "source": [
    "# ! /home/docker/env/neurosci/nest_build/bin/nest-server start -d\n",
    "! /opt/nest/bin/nest-server start -d -p 52425"
   ]
  },
  {
   "cell_type": "code",
   "execution_count": 46,
   "id": "08510e39",
   "metadata": {},
   "outputs": [
    {
     "name": "stdout",
     "output_type": "stream",
     "text": [
      "Running client examples using NEST via NEST Server\n",
      "\n",
      "\n",
      "Execute script code with NEST Server API\n",
      "--------------------\n",
      "Number of events: 126\n",
      "\n",
      "\n",
      "Execute script code from file\n",
      "--------------------\n",
      "Execute script code of /home/docker/packages/nest-client/examples/NESTClient_script.py\n",
      "Return variables: n_events\n",
      "--------------------\n",
      "# -*- coding: utf-8 -*-\n",
      "#\n",
      "# NESTClient_script.py\n",
      "#\n",
      "# This file is part of NEST.\n",
      "#\n",
      "# Copyright (C) 2004 The NEST Initiative\n",
      "#\n",
      "# NEST is free software: you can redistribute it and/or modify\n",
      "# it under the terms of the GNU General Public License as published by\n",
      "# the Free Software Foundation, either version 2 of the License, or\n",
      "# (at your option) any later version.\n",
      "#\n",
      "# NEST is distributed in the hope that it will be useful,\n",
      "# but WITHOUT ANY WARRANTY; without even the implied warranty of\n",
      "# MERCHANTABILITY or FITNESS FOR A PARTICULAR PURPOSE.  See the\n",
      "# GNU General Public License for more details.\n",
      "#\n",
      "# You should have received a copy of the GNU General Public License\n",
      "# along with NEST.  If not, see <http://www.gnu.org/licenses/>.\n",
      "\n",
      "import nest\n",
      "\n",
      "\n",
      "# Reset kernel\n",
      "nest.ResetKernel()\n",
      "\n",
      "# Create nodes\n",
      "pg = nest.Create(\"poisson_generator\", params={\"rate\": 6500.})\n",
      "neurons = nest.Create(\"iaf_psc_alpha\", 100)\n",
      "sr = nest.Create(\"spike_recorder\")\n",
      "\n",
      "# Connect nodes\n",
      "nest.Connect(pg, neurons, syn_spec={\"weight\": 10.})\n",
      "nest.Connect(neurons[::10], sr)\n",
      "\n",
      "# Simulate\n",
      "nest.Simulate(1000.)\n",
      "\n",
      "# Get events\n",
      "n_events = sr.get(\"n_events\")\n",
      "\n",
      "--------------------\n",
      "Number of events: 126\n"
     ]
    }
   ],
   "source": [
    "from nest_client import NESTClient\n",
    "\n",
    "print('Running client examples using NEST via NEST Server')\n",
    "\n",
    "# Load NEST Server client\n",
    "nestsc = NESTClient(port=52425)\n",
    "\n",
    "#\n",
    "# Use NEST Server API\n",
    "#\n",
    "print('\\n')\n",
    "print('Execute script code with NEST Server API')\n",
    "print('-' * 20)\n",
    "\n",
    "# Reset kernel\n",
    "nestsc.ResetKernel()\n",
    "nestsc.GetKernelStatus(\"biological_time\")\n",
    "\n",
    "# Create nodes\n",
    "pg = nestsc.Create(\"poisson_generator\", params={\"rate\": 6500.})\n",
    "neurons = nestsc.Create(\"iaf_psc_alpha\", 100)\n",
    "sr = nestsc.Create(\"spike_recorder\")\n",
    "\n",
    "# Connect nodes\n",
    "nestsc.Connect(pg, neurons, syn_spec={'weight': 10.})\n",
    "nestsc.Connect(neurons[::10], sr)\n",
    "\n",
    "# Simulate\n",
    "nestsc.Simulate(1000.0)\n",
    "\n",
    "# Get events\n",
    "n_events = nestsc.GetStatus(sr, 'n_events')[0]\n",
    "print('Number of events:', n_events)\n",
    "\n",
    "\n",
    "#\n",
    "# Use NEST Server exec\n",
    "#\n",
    "print('\\n')\n",
    "print('Execute script code from file')\n",
    "print('-' * 20)\n",
    "\n",
    "n_events = nestsc.from_file('/home/docker/packages/nest-client/examples/NESTClient_script.py', 'n_events')['data']\n",
    "print('Number of events:', n_events)"
   ]
  },
  {
   "cell_type": "code",
   "execution_count": 47,
   "id": "0b79b782",
   "metadata": {},
   "outputs": [],
   "source": [
    "from tvb_multiscale.tvb_nest.nest_models.server_client.nest_server_client import NESTServerClient"
   ]
  },
  {
   "cell_type": "code",
   "execution_count": 48,
   "id": "ca2497c6",
   "metadata": {},
   "outputs": [],
   "source": [
    "# Load NEST Server client\n",
    "nest = NESTServerClient(host='localhost', port=52425)"
   ]
  },
  {
   "cell_type": "code",
   "execution_count": 49,
   "id": "6eab8e58",
   "metadata": {},
   "outputs": [
    {
     "data": {
      "text/plain": [
       "1000.0"
      ]
     },
     "execution_count": 49,
     "metadata": {},
     "output_type": "execute_result"
    }
   ],
   "source": [
    "nest.GetKernelStatus(\"biological_time\")"
   ]
  },
  {
   "cell_type": "code",
   "execution_count": 50,
   "id": "d5e0e34c",
   "metadata": {},
   "outputs": [
    {
     "name": "stdout",
     "output_type": "stream",
     "text": [
      "{\"mpi\":false,\"nest\":\"3.5\"}\r\n"
     ]
    }
   ],
   "source": [
    "! curl localhost:52425"
   ]
  },
  {
   "cell_type": "code",
   "execution_count": 51,
   "id": "fbc4a719",
   "metadata": {},
   "outputs": [
    {
     "data": {
      "text/plain": [
       "{'mpi': False, 'nest': '3.5'}"
      ]
     },
     "execution_count": 51,
     "metadata": {},
     "output_type": "execute_result"
    }
   ],
   "source": [
    "import requests\n",
    "requests.get('http://localhost:52425').json()"
   ]
  },
  {
   "cell_type": "code",
   "execution_count": 53,
   "id": "2175899a",
   "metadata": {},
   "outputs": [
    {
     "data": {
      "text/plain": [
       "1000.0"
      ]
     },
     "execution_count": 53,
     "metadata": {},
     "output_type": "execute_result"
    }
   ],
   "source": [
    "requests.get('http://localhost:52425/api/GetKernelStatus', json=[\"biological_time\"]).json()"
   ]
  },
  {
   "cell_type": "code",
   "execution_count": 54,
   "id": "402b6b43",
   "metadata": {},
   "outputs": [
    {
     "name": "stdout",
     "output_type": "stream",
     "text": [
      "NEST Server is not running at http://0.0.0.0:5000.\r\n"
     ]
    }
   ],
   "source": [
    "# ! /home/docker/env/neurosci/nest_build/bin/nest-server stop\n",
    "! /opt/nest/bin/nest-server stop"
   ]
  },
  {
   "cell_type": "code",
   "execution_count": null,
   "id": "7d3c0fdf",
   "metadata": {},
   "outputs": [],
   "source": []
  }
 ],
 "metadata": {
  "kernelspec": {
   "display_name": "Python 3 (ipykernel)",
   "language": "python",
   "name": "python3"
  },
  "language_info": {
   "codemirror_mode": {
    "name": "ipython",
    "version": 3
   },
   "file_extension": ".py",
   "mimetype": "text/x-python",
   "name": "python",
   "nbconvert_exporter": "python",
   "pygments_lexer": "ipython3",
   "version": "3.10.12"
  }
 },
 "nbformat": 4,
 "nbformat_minor": 5
}
