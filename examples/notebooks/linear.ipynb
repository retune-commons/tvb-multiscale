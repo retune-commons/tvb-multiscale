{
 "cells": [
  {
   "cell_type": "markdown",
   "id": "6df3b238",
   "metadata": {},
   "source": [
    "# # TVB only (multiscale) simulation"
   ]
  },
  {
   "cell_type": "markdown",
   "id": "a65005bb",
   "metadata": {},
   "source": [
    "## tvb-multiscale toolbox:\n",
    "\n",
    "https://github.com/the-virtual-brain/tvb-multiscale\n",
    " \n",
    "For questions use the git issue tracker, or write an e-mail to me: dionysios.perdikis@bih-charite.de"
   ]
  },
  {
   "cell_type": "markdown",
   "id": "2292fb07",
   "metadata": {},
   "source": [
    "# An example of the simplest possible TVB only simulation\n",
    "\n",
    "## Linear mean field model with 1 Excitatory population\n",
    "\n",
    "For every region node $n\\prime$ modelled as a mean-field node in TVB:\n",
    "\n",
    "The rate R is given by:\n",
    "\n",
    "$\\dot{R_{n\\prime}} = - \\frac{1}{\\tau}({\\gamma R_{n\\prime}}(t) + \n",
    "     G\\sum_{{m\\prime}\\neq {n\\prime}}C_{{m\\prime}{n\\prime}}R_{m\\prime}(t-\\tau_{{m\\prime}{n\\prime}})) + I_o$\n",
    "\n",
    "\n",
    "TVB connectivity weights $C_{{m\\prime}{n\\prime}}$ are scaled per \"region\""
   ]
  },
  {
   "cell_type": "markdown",
   "id": "debfa159",
   "metadata": {},
   "source": [
    "## Parameters:\n",
    " \n",
    "- time constant $\\tau = 100ms$ \n",
    "- linear coefficient $\\gamma = -1.0$\n",
    "- overall effective external input current $I_o = 0.0nA$ \n",
    "- global structural brain connectivity coupling constant $G$\n",
    "- structural TVB connectivity weights $C_{{m\\prime}{n\\prime}}$ (${m\\prime}->{n\\prime}$)\n",
    "- structural TVB connectivity delays $\\tau_{{m\\prime}{n\\prime}}$  (${m\\prime}->{n\\prime}$)\n",
    " "
   ]
  },
  {
   "cell_type": "code",
   "execution_count": null,
   "id": "15a5a56f",
   "metadata": {},
   "outputs": [],
   "source": [
    "import os\n",
    "from collections import OrderedDict\n",
    "import time\n",
    "import numpy as np\n",
    "\n",
    "from tvb.basic.profile import TvbProfile\n",
    "TvbProfile.set_profile(TvbProfile.LIBRARY_PROFILE)\n",
    "\n",
    "from tvb_multiscale.core.config import Config, CONFIGURED\n",
    "\n",
    "work_path = os.getcwd()\n",
    "data_path = os.path.join(work_path.split(\"tvb_nest\")[0], \"data\")\n",
    "outputs_path = os.path.join(work_path, \"outputs/Linear\")\n",
    "config = Config(output_base=outputs_path)\n",
    "\n",
    "config.figures.SHOW_FLAG = True \n",
    "config.figures.SAVE_FLAG = True\n",
    "config.figures.FIG_FORMAT = 'png'\n",
    "\n",
    "from tvb_multiscale.core.plot.plotter import Plotter\n",
    "plotter = Plotter(config)\n",
    "\n",
    "    \n",
    "# For interactive plotting:\n",
    "# %matplotlib notebook  \n",
    "\n",
    "# Otherwise:\n",
    "%matplotlib inline"
   ]
  },
  {
   "cell_type": "markdown",
   "id": "7b8145d2",
   "metadata": {},
   "source": [
    "## 1. Prepare TVB simulator <br> (including structural data -minimally a TVB connectivity, region mean field model, integrator, monitors etc)\n"
   ]
  },
  {
   "cell_type": "code",
   "execution_count": null,
   "id": "5f6eeb02",
   "metadata": {
    "scrolled": true
   },
   "outputs": [],
   "source": [
    "\n",
    "from tvb_multiscale.core.tvb.cosimulator.cosimulator_builder import CoSimulatorBuilder\n",
    "from tvb.datatypes.connectivity import Connectivity\n",
    "from tvb_multiscale.core.tvb.cosimulator.models.linear import Linear, LinearRin\n",
    "\n",
    "\n",
    "# Using the tvb-multdiscale simulator builder with default choices...\n",
    "simulator_builder = CoSimulatorBuilder()\n",
    "# Optionally modify the default configuration:\n",
    "model_params = {\n",
    "        \"tau\": np.array([100.0, ]),\n",
    "        \"gamma\": np.array([-1.0, ]),\n",
    "        \"I_o\": np.array([1.0, ]),\n",
    "        \"G\":   np.array([2.0,])\n",
    "    }\n",
    "# Choose a model \n",
    "# Linear \n",
    "# or LinearRin to return input coupling rate Rin as state variable\n",
    "simulator_builder.model = LinearRin(**model_params)  \n",
    "# Mean field rate variables for plotting\n",
    "# [\"R\"] for Linear  \n",
    "# or [\"R\", \"Rin\"] for Linear Rin\n",
    "tvb_rates_svs = [\"R\", \"Rin\"]  \n",
    "\n",
    "simulator_builder.connectivity = Connectivity.from_file(config.DEFAULT_CONNECTIVITY_ZIP)\n",
    "\n",
    "simulator = simulator_builder.build(**model_params)\n",
    "\n",
    "simulation_length = 100.0\n",
    "\n",
    "\n",
    "plotter.plot_tvb_connectivity(simulator.connectivity)"
   ]
  },
  {
   "cell_type": "markdown",
   "id": "3481058d",
   "metadata": {},
   "source": [
    "## 2. Configure simulator, simulate, gather results\n"
   ]
  },
  {
   "cell_type": "code",
   "execution_count": null,
   "id": "8281bb33",
   "metadata": {},
   "outputs": [],
   "source": [
    "# Configure the simulator interface...\n",
    "# simulator.model.use_numba = False\n",
    "simulator.configure()\n",
    "# ...and simulate!\n",
    "t = time.time()\n",
    "results = simulator.run(simulation_length=simulation_length)\n",
    "print(\"\\nSimulated in %f secs!\" % (time.time() - t))"
   ]
  },
  {
   "cell_type": "code",
   "execution_count": null,
   "id": "f5eb0d33",
   "metadata": {},
   "outputs": [],
   "source": [
    "\n",
    "try:\n",
    "    from tvb_multiscale.core.tvb.io.h5_writer import H5Writer\n",
    "    from examples.plot_write_results import write_RegionTimeSeriesXarray_to_h5\n",
    "    writer = H5Writer()\n",
    "except:\n",
    "    writer = None\n",
    "    \n",
    "# Gather the results\n",
    "t = results[0][0]\n",
    "source = results[0][1]\n",
    "\n",
    "# Put the results in a Timeseries instance\n",
    "from tvb.contrib.scripts.datatypes.time_series_xarray import TimeSeriesRegion\n",
    "\n",
    "source_ts = TimeSeriesRegion(source, time=t,\n",
    "               connectivity=simulator.connectivity,\n",
    "               labels_ordering=[\"Time\", \"State Variable\", \"Region\", \"Neurons\"],\n",
    "               labels_dimensions=\n",
    "                    {\"State Variable\": simulator.model.state_variables,\n",
    "                     \"Region\": simulator.connectivity.region_labels.tolist()},\n",
    "               sample_period=simulator.integrator.dt)\n",
    "source_ts.configure()\n",
    "\n",
    "# Write to file\n",
    "if writer:\n",
    "    write_RegionTimeSeriesXarray_to_h5(source_ts, writer,\n",
    "                                       os.path.join(config.out.FOLDER_RES, source_ts.title)+\".h5\")\n",
    "source_ts "
   ]
  },
  {
   "cell_type": "code",
   "execution_count": null,
   "id": "6dc516f6",
   "metadata": {},
   "outputs": [],
   "source": [
    "# Separate mean field time series into different populations\n",
    "from pandas import Series\n",
    "\n",
    "from tvb_multiscale.core.utils.computations_utils import compute_tvb_spike_rate_corrs\n",
    "mean_field = source_ts\n",
    "tvb_rates = source_ts[:, tvb_rates_svs]\n",
    "tvb_rates.title = \"Region mean field rate time series\"\n",
    "tvb_spikes = None\n",
    "    \n",
    "tvb_corrs = compute_tvb_spike_rate_corrs(tvb_rates)\n",
    "if writer is not None:\n",
    "    write_RegionTimeSeriesXarray_to_h5(tvb_rates, writer,\n",
    "                                       os.path.join(config.out.FOLDER_RES, tvb_rates.title.replace(\" \", \"_\")) + \".h5\",\n",
    "                                       recursive=False)\n",
    "    writer.write_object(tvb_corrs, path=os.path.join(config.out.FOLDER_RES, \"TVB_corrs\") + \".h5\")"
   ]
  },
  {
   "cell_type": "code",
   "execution_count": null,
   "id": "13a31de6",
   "metadata": {},
   "outputs": [],
   "source": [
    "# For raster plot:\n",
    "mean_field.plot_timeseries(plotter_config=plotter.config, per_variable=True, \n",
    "                           figsize=config.figures.NOTEBOOK_SIZE, add_legend=False)\n",
    "if mean_field.number_of_labels > 9:\n",
    "    mean_field.plot_raster(plotter_config=plotter.config, per_variable=True, \n",
    "                           figsize=config.figures.NOTEBOOK_SIZE, add_legend=False)"
   ]
  },
  {
   "cell_type": "markdown",
   "id": "20bddfca",
   "metadata": {},
   "source": [
    "### Interactive time series plot"
   ]
  },
  {
   "cell_type": "code",
   "execution_count": null,
   "id": "595d070b",
   "metadata": {},
   "outputs": [],
   "source": [
    "# # ...interactively as well\n",
    "# # For interactive plotting:\n",
    "# %matplotlib notebook \n",
    "# plotter.plot_timeseries_interactive(source_ts)\n"
   ]
  },
  {
   "cell_type": "markdown",
   "id": "ca75d8da",
   "metadata": {},
   "source": [
    "\n",
    "\n",
    "# References\n",
    "\n",
    "1 Paula Sanz Leon, Stuart A. Knock, M. Marmaduke Woodman, Lia Domide, <br>\n",
    "Jochen Mersmann, Anthony R. McIntosh, Viktor Jirsa (2013) <br>\n",
    "The Virtual Brain: a simulator of primate brain network dynamics. <br>\n",
    "Frontiers in Neuroinformatics (7:10. doi: 10.3389/fninf.2013.00010) <br>\n",
    "https://www.thevirtualbrain.org/tvb/zwei <br>\n",
    "https://github.com/the-virtual-brain <br>\n",
    " \n",
    "2 Ritter P, Schirner M, McIntosh AR, Jirsa VK. 2013.  <br>\n",
    "The Virtual Brain integrates computational modeling  <br>\n",
    "and multimodal neuroimaging. Brain Connectivity 3:121–145. <br>"
   ]
  },
  {
   "cell_type": "code",
   "execution_count": null,
   "id": "65212ebf",
   "metadata": {},
   "outputs": [],
   "source": []
  }
 ],
 "metadata": {
  "kernelspec": {
   "display_name": "Python 3 (ipykernel)",
   "language": "python",
   "name": "python3"
  },
  "language_info": {
   "codemirror_mode": {
    "name": "ipython",
    "version": 3
   },
   "file_extension": ".py",
   "mimetype": "text/x-python",
   "name": "python",
   "nbconvert_exporter": "python",
   "pygments_lexer": "ipython3",
   "version": "3.9.2"
  }
 },
 "nbformat": 4,
 "nbformat_minor": 5
}
