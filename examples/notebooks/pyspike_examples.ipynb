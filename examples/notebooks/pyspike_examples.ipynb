{
 "cells": [
  {
   "cell_type": "code",
   "execution_count": null,
   "id": "associate-nigeria",
   "metadata": {},
   "outputs": [],
   "source": [
    "import numpy as np\n",
    "import matplotlib.pyplot as plt\n",
    "import pyspike as spk\n",
    "import os\n",
    "\n",
    "data_path = os.path.expanduser(\"~/packages/PySpike/test/PySpike_testdata.txt\")\n",
    "spike_trains = spk.load_spike_trains_from_txt(data_path, edges=(0, 4000))\n",
    "\n",
    "n_spike_trains = len(spike_trains)\n",
    "y_max = n_spike_trains\n",
    "plt.figure(figsize=(20, 10))\n",
    "for iS, spike_train in enumerate(spike_trains):\n",
    "    plt.plot(np.array(spike_train), [(iS +1.0)/n_spike_trains] * len(spike_train), \"b.\", alpha=0.5)\n",
    "isi_profile = spk.spike_sync_profile(spike_trains)\n",
    "x, y = isi_profile.get_plottable_data()\n",
    "plt.plot(x, y, 'k--')\n",
    "print(\"ISI distance: %.8f\" % isi_profile.avrg())\n",
    "plt.show()"
   ]
  },
  {
   "cell_type": "code",
   "execution_count": null,
   "id": "streaming-session",
   "metadata": {},
   "outputs": [],
   "source": [
    "spike_trains = spk.load_spike_trains_from_txt(data_path, 4000)\n",
    "\n",
    "plt.figure()\n",
    "isi_distance = spk.isi_distance_matrix(spike_trains)\n",
    "plt.imshow(isi_distance, interpolation='none')\n",
    "plt.title(\"ISI-distance\")\n",
    "\n",
    "plt.figure()\n",
    "spike_distance = spk.spike_distance_matrix(spike_trains, interval=(0,1000))\n",
    "plt.imshow(spike_distance, interpolation='none')\n",
    "plt.title(\"SPIKE-distance\")\n",
    "\n",
    "plt.figure()\n",
    "spike_sync = spk.spike_sync_matrix(spike_trains, interval=(2000,4000))\n",
    "plt.imshow(spike_sync, interpolation='none')\n",
    "plt.title(\"SPIKE-Sync\")\n",
    "\n",
    "plt.show()\n"
   ]
  },
  {
   "cell_type": "code",
   "execution_count": null,
   "id": "sunset-weather",
   "metadata": {},
   "outputs": [],
   "source": []
  }
 ],
 "metadata": {
  "kernelspec": {
   "display_name": "Python 3 (ipykernel)",
   "language": "python",
   "name": "python3"
  },
  "language_info": {
   "codemirror_mode": {
    "name": "ipython",
    "version": 3
   },
   "file_extension": ".py",
   "mimetype": "text/x-python",
   "name": "python",
   "nbconvert_exporter": "python",
   "pygments_lexer": "ipython3",
   "version": "3.9.2"
  }
 },
 "nbformat": 4,
 "nbformat_minor": 5
}
